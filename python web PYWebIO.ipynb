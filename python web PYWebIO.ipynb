{
 "cells": [
  {
   "cell_type": "code",
   "execution_count": null,
   "metadata": {},
   "outputs": [],
   "source": [
    "!import pywebio"
   ]
  },
  {
   "cell_type": "code",
   "execution_count": null,
   "metadata": {},
   "outputs": [],
   "source": [
    "from pywebio.input import input\n",
    "from pywebio.output import output"
   ]
  },
  {
   "cell_type": "code",
   "execution_count": null,
   "metadata": {},
   "outputs": [],
   "source": [
    "put_row([\n",
    "    put_column([\n",
    "        put_code('A'),\n",
    "        put_row([\n",
    "            put_code('B1'), None,  # None represents the space between the output\n",
    "            put_code('B2'), None,\n",
    "            put_code('B3'),\n",
    "        ]),\n",
    "        put_code('C'),\n",
    "    ]), None,\n",
    "    put_code('D'), None,\n",
    "    put_code('E')\n",
    "])"
   ]
  }
 ],
 "metadata": {
  "kernelspec": {
   "display_name": "Python 3",
   "language": "python",
   "name": "python3"
  }
 },
 "nbformat": 4,
 "nbformat_minor": 4
}
